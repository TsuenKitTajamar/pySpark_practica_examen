{
  "cells": [
    {
      "cell_type": "markdown",
      "metadata": {
        "application/vnd.databricks.v1+cell": {
          "cellMetadata": {
            "byteLimit": 2048000,
            "rowLimit": 10000
          },
          "inputWidgets": {},
          "nuid": "1f826429-1b0b-452b-98d5-d724d06f8ba3",
          "showTitle": false,
          "tableResultSettingsMap": {},
          "title": ""
        },
        "id": "p0FK5iDZDX_b"
      },
      "source": [
        "# Explorando tendencias de mercado de Airbnb"
      ]
    },
    {
      "cell_type": "markdown",
      "metadata": {
        "application/vnd.databricks.v1+cell": {
          "cellMetadata": {},
          "inputWidgets": {},
          "nuid": "30017573-ddfa-442e-931f-69e52cab3f33",
          "showTitle": false,
          "tableResultSettingsMap": {},
          "title": ""
        },
        "id": "GjAKgak1DX_c"
      },
      "source": [
        "La ciudad de Nueva York tiene una variedad de anuncios de Airbnb para satisfacer la alta demanda de alojamiento temporal para viajeros, con diferentes niveles de precios, tipos de habitaciones y ubicaciones."
      ]
    },
    {
      "cell_type": "markdown",
      "metadata": {
        "application/vnd.databricks.v1+cell": {
          "cellMetadata": {},
          "inputWidgets": {},
          "nuid": "9113a8f5-7192-4887-b383-2d285a405f0f",
          "showTitle": false,
          "tableResultSettingsMap": {},
          "title": ""
        },
        "id": "BL-4Dr80DX_c"
      },
      "source": [
        "La ciudad de Nueva York, es una de las ciudades más visitadas del mundo. Hay muchos anuncios de Airbnb en la ciudad de Nueva York para satisfacer la alta demanda de alojamiento temporal para viajeros, que puede durar desde unas pocas noches hasta muchos meses. En este proyecto, analizaremos más de cerca el mercado de Airbnb de Nueva York combinando datos de varios tipos de archivos como .csv, .tsv y .xlsx.\n",
        "\n",
        "Recuerde que los archivos CSV, TSV y Excel son tres formatos comunes para almacenar datos. Tiene a su disposición [tres archivos](https://tajamar365.sharepoint.com/:f:/s/3405-MasterIA2024-2025/EoXMgjAJLLNJqWDyKDig8kABSUkpWj_HGQjl267qNnHS9g?e=foxjFc) que contienen datos sobre los anuncios de Airbnb de 2019:  \n",
        "\n",
        "- `airbnb_price.csv `: Este es un archivo CSV que contiene datos sobre precios y ubicaciones de anuncios de Airbnb.  \n",
        "  1. `listing_id`: identificador único del anuncio  \n",
        "  2. `price`: precio del anuncio por noche en USD  \n",
        "  3. `nbhood_full`: nombre del distrito y del barrio donde se encuentra el anuncio  \n",
        "    \n",
        "\n",
        "- `airbnb_room_type.xlsx`: Este es un archivo Excel que contiene datos sobre las descripciones de los anuncios de Airbnb y los tipos de habitaciones.  \n",
        "  1. `listing_id`: identificador único del anuncio  \n",
        "  2. `description`: descripción del anuncio     \n",
        "  3. `room_type`: Airbnb tiene tres tipos de habitaciones: habitaciones compartidas, habitaciones privadas y casas o apartamentos completos\n",
        "\n",
        "\n",
        "- `airbnb_last_review.tsv`: Este es un archivo TSV que contiene datos sobre los nombres de los anfitriones de Airbnb y las fechas de revisión.  \n",
        "  1. `listing_id`: identificador único del anuncio  \n",
        "  2. `host_name`:  nombre del anfitrión del anuncio  \n",
        "  3. `last_review`: echa en la que se revisó el anuncio por última vez   "
      ]
    },
    {
      "cell_type": "markdown",
      "metadata": {
        "application/vnd.databricks.v1+cell": {
          "cellMetadata": {},
          "inputWidgets": {},
          "nuid": "bab5e15d-251d-4092-9ec3-61f8a0d84f43",
          "showTitle": false,
          "tableResultSettingsMap": {},
          "title": ""
        },
        "id": "Ij6tVma8DX_d"
      },
      "source": [
        "Como consultor que trabaja para una empresa inmobiliaria emergente, ha recopilado datos de anuncios de Airbnb de varias fuentes para investigar el mercado de alquileres a corto plazo en Nueva York. Analizará estos datos para brindar información sobre habitaciones privadas a la empresa inmobiliaria."
      ]
    },
    {
      "cell_type": "markdown",
      "metadata": {
        "application/vnd.databricks.v1+cell": {
          "cellMetadata": {},
          "inputWidgets": {},
          "nuid": "3db66806-50c8-46b2-ab8b-fb66b3602f7d",
          "showTitle": false,
          "tableResultSettingsMap": {},
          "title": ""
        },
        "id": "PpALogFJDX_d"
      },
      "source": [
        "- ¿Cuáles son las fechas de las primeras y las últimas reseñas? Almacene estos valores como dos variables independientes con los nombres que prefiera.\n",
        "- ¿Cuántos de los anuncios son habitaciones privadas? Guárdelo en cualquier variable.\n",
        "- ¿Cuál es el precio promedio de los anuncios? Redondee a los dos decimales más cercanos y guárdelo en una variable.\n",
        "- Combine las nuevas variables en un DataFrame llamado review_dates con cuatro columnas en el siguiente orden: first_reviewed, last_reviewed, nb_private_rooms y avg_price. El DataFrame solo debe contener una fila de valores."
      ]
    },
    {
      "cell_type": "markdown",
      "source": [
        "Instalamos las dependencias necesarias para cargar archivos de tipo Excel"
      ],
      "metadata": {
        "id": "FjezuveyEK3z"
      }
    },
    {
      "cell_type": "code",
      "source": [
        "# Instala las bibliotecas necesarias para leer archivos Excel:\n",
        "!pip install openpyxl"
      ],
      "metadata": {
        "colab": {
          "base_uri": "https://localhost:8080/"
        },
        "id": "YSxlUOoSLsI2",
        "outputId": "5e6674cb-21ee-4649-b765-246ea370d5a8"
      },
      "execution_count": null,
      "outputs": [
        {
          "output_type": "stream",
          "name": "stdout",
          "text": [
            "Requirement already satisfied: openpyxl in /usr/local/lib/python3.10/dist-packages (3.1.5)\n",
            "Requirement already satisfied: et-xmlfile in /usr/local/lib/python3.10/dist-packages (from openpyxl) (2.0.0)\n"
          ]
        }
      ]
    },
    {
      "source": [
        "import pandas as pd\n",
        "\n",
        "# Ruta de archivos\n",
        "file_price = \"/content/EP_3/airbnb_price.csv\"\n",
        "file_room_type = \"/content/EP_3/airbnb_room_type.xlsx\"\n",
        "file_last_review = \"/content/EP_3/airbnb_last_review.tsv\"\n",
        "\n",
        "# Leer el archivo CSV con precios, especificando el delimitador como tabulador\n",
        "df_price = pd.read_csv(file_price, sep=',')\n",
        "\n",
        "# Leer el archivo Excel con tipos de habitaciones\n",
        "df_room_type = pd.read_excel(file_room_type, engine=\"openpyxl\")\n",
        "\n",
        "# Leer el archivo TSV con revisiones\n",
        "df_last_review = pd.read_csv(file_last_review, sep=\"\\t\")\n",
        "\n",
        "# Verificar los datos cargados (opcional)\n",
        "print(df_price.head())\n",
        "print(df_room_type.head())\n",
        "print(df_last_review.head())"
      ],
      "cell_type": "code",
      "metadata": {
        "colab": {
          "base_uri": "https://localhost:8080/"
        },
        "id": "U7GrdQluNDZ1",
        "outputId": "91f6516f-112f-4034-e918-c650774201fb"
      },
      "execution_count": null,
      "outputs": [
        {
          "output_type": "stream",
          "name": "stdout",
          "text": [
            "   listing_id        price                nbhood_full\n",
            "0        2595  225 dollars         Manhattan, Midtown\n",
            "1        3831   89 dollars     Brooklyn, Clinton Hill\n",
            "2        5099  200 dollars     Manhattan, Murray Hill\n",
            "3        5178   79 dollars  Manhattan, Hell's Kitchen\n",
            "4        5238  150 dollars       Manhattan, Chinatown\n",
            "   listing_id                                description        room_type\n",
            "0        2595                      Skylit Midtown Castle  Entire home/apt\n",
            "1        3831            Cozy Entire Floor of Brownstone  Entire home/apt\n",
            "2        5099  Large Cozy 1 BR Apartment In Midtown East  Entire home/apt\n",
            "3        5178            Large Furnished Room Near B'way     private room\n",
            "4        5238         Cute & Cozy Lower East Side 1 bdrm  Entire home/apt\n",
            "   listing_id    host_name   last_review\n",
            "0        2595     Jennifer   May 21 2019\n",
            "1        3831  LisaRoxanne  July 05 2019\n",
            "2        5099        Chris  June 22 2019\n",
            "3        5178     Shunichi  June 24 2019\n",
            "4        5238          Ben  June 09 2019\n"
          ]
        }
      ]
    },
    {
      "cell_type": "markdown",
      "source": [
        "#### Union de archivos\n",
        "\n",
        "Cargaremos los tres archivos:\n",
        "- airbnb_price.csv: Este es un archivo CSV que contiene datos sobre precios y ubicaciones de anuncios de Airbnb.\n",
        "\n",
        "- airbnb_room_type.xlsx: Este es un archivo Excel que contiene datos sobre las descripciones de los anuncios de Airbnb y los tipos de habitaciones.\n",
        "\n",
        "- airbnb_last_review.tsv: Este es un archivo TSV que contiene datos sobre los nombres de los anfitriones de Airbnb y las fechas de revisión.\n",
        "\n",
        "En los tres archivos coinciden la columna `listing_id`, lo que las uniremos basándonos en la columna `listing_id`.\n",
        "Para ello haremos un `join` mediante un `inner`.\n",
        "\n",
        "¿Por qué usaremos un `inner` frente a un `right` o un `left` ?\n",
        "\n",
        "  - `inner`: se usa si necesitas solo los registros completos (cuando las coincidencias en los tres archivos son obligatorias).\n",
        "\n",
        "  - `outer`: Conserva todo de ambos archivos, rellenando con NULL cuando no haya coincidencias.\n",
        "\n",
        "  - `left`: todos los registros del lado izquierdo (df_left) estarán en el resultado, aunque no tengan coincidencias en el lado derecho\n",
        "\n",
        "  - `right`: todos los registros del lado derecho (df_right) estarán en el resultado, aunque no tengan coincidencias en el lado izquierdo.\n",
        "\n",
        "  \n",
        "  Ejemplo: ``df_left.join(df_right, on=\"listing_id\", how=\"right\")``\n",
        "\n",
        "  "
      ],
      "metadata": {
        "id": "BPQDsc0pIlnA"
      }
    },
    {
      "cell_type": "code",
      "source": [
        "# Uniremos room type file sobre price file\n",
        "df_unido = pd.merge(df_price, df_room_type, on=\"listing_id\", how=\"left\")\n",
        "\n",
        "# Uniremos a esto el otro archivo que nos queda last_review\n",
        "df_final = pd.merge(df_unido, df_last_review, on=\"listing_id\", how=\"left\")\n",
        "\n",
        "print(df_final.head())"
      ],
      "metadata": {
        "colab": {
          "base_uri": "https://localhost:8080/"
        },
        "id": "LzgiG5dsNYdE",
        "outputId": "180fbab9-4c50-4c43-d908-5007d6fce65d"
      },
      "execution_count": null,
      "outputs": [
        {
          "output_type": "stream",
          "name": "stdout",
          "text": [
            "   listing_id        price                nbhood_full  \\\n",
            "0        2595  225 dollars         Manhattan, Midtown   \n",
            "1        3831   89 dollars     Brooklyn, Clinton Hill   \n",
            "2        5099  200 dollars     Manhattan, Murray Hill   \n",
            "3        5178   79 dollars  Manhattan, Hell's Kitchen   \n",
            "4        5238  150 dollars       Manhattan, Chinatown   \n",
            "\n",
            "                                 description        room_type    host_name  \\\n",
            "0                      Skylit Midtown Castle  Entire home/apt     Jennifer   \n",
            "1            Cozy Entire Floor of Brownstone  Entire home/apt  LisaRoxanne   \n",
            "2  Large Cozy 1 BR Apartment In Midtown East  Entire home/apt        Chris   \n",
            "3            Large Furnished Room Near B'way     private room     Shunichi   \n",
            "4         Cute & Cozy Lower East Side 1 bdrm  Entire home/apt          Ben   \n",
            "\n",
            "    last_review  \n",
            "0   May 21 2019  \n",
            "1  July 05 2019  \n",
            "2  June 22 2019  \n",
            "3  June 24 2019  \n",
            "4  June 09 2019  \n"
          ]
        }
      ]
    },
    {
      "cell_type": "markdown",
      "source": [
        "Usaremos `left join` ya que incluiremos todos los registros del archivo base (airbnb_price.csv) y rellenamos con nulos las columnas faltantes si no hay coincidencia.\n",
        "\n",
        "En cambio, si usamos `inner join` solo incluye registros que tienen coincidencias en los tres archivos, y podemos tener celdas como review, descripcion vacío ya que no  es tan relevante."
      ],
      "metadata": {
        "id": "bTaTlAXbPw6q"
      }
    },
    {
      "cell_type": "code",
      "source": [
        "# Podemos guardar los tres archivos en un solo CSV\n",
        "df_final.to_csv(\"airbnb_full.csv\", index=False)\n",
        "\n",
        "# Descargar el archivo resultante\n",
        "from google.colab import files\n",
        "files.download(\"airbnb_full.csv\")\n",
        "\n",
        "# Verificar la estructura del DataFrame\n",
        "print(df_final.info())"
      ],
      "metadata": {
        "colab": {
          "base_uri": "https://localhost:8080/",
          "height": 277
        },
        "id": "SDH56JwFQEdL",
        "outputId": "0eb0024c-ae3f-44e9-ad9e-3350ac9edb93"
      },
      "execution_count": null,
      "outputs": [
        {
          "output_type": "display_data",
          "data": {
            "text/plain": [
              "<IPython.core.display.Javascript object>"
            ],
            "application/javascript": [
              "\n",
              "    async function download(id, filename, size) {\n",
              "      if (!google.colab.kernel.accessAllowed) {\n",
              "        return;\n",
              "      }\n",
              "      const div = document.createElement('div');\n",
              "      const label = document.createElement('label');\n",
              "      label.textContent = `Downloading \"${filename}\": `;\n",
              "      div.appendChild(label);\n",
              "      const progress = document.createElement('progress');\n",
              "      progress.max = size;\n",
              "      div.appendChild(progress);\n",
              "      document.body.appendChild(div);\n",
              "\n",
              "      const buffers = [];\n",
              "      let downloaded = 0;\n",
              "\n",
              "      const channel = await google.colab.kernel.comms.open(id);\n",
              "      // Send a message to notify the kernel that we're ready.\n",
              "      channel.send({})\n",
              "\n",
              "      for await (const message of channel.messages) {\n",
              "        // Send a message to notify the kernel that we're ready.\n",
              "        channel.send({})\n",
              "        if (message.buffers) {\n",
              "          for (const buffer of message.buffers) {\n",
              "            buffers.push(buffer);\n",
              "            downloaded += buffer.byteLength;\n",
              "            progress.value = downloaded;\n",
              "          }\n",
              "        }\n",
              "      }\n",
              "      const blob = new Blob(buffers, {type: 'application/binary'});\n",
              "      const a = document.createElement('a');\n",
              "      a.href = window.URL.createObjectURL(blob);\n",
              "      a.download = filename;\n",
              "      div.appendChild(a);\n",
              "      a.click();\n",
              "      div.remove();\n",
              "    }\n",
              "  "
            ]
          },
          "metadata": {}
        },
        {
          "output_type": "display_data",
          "data": {
            "text/plain": [
              "<IPython.core.display.Javascript object>"
            ],
            "application/javascript": [
              "download(\"download_e9380726-9af0-4430-a106-7dd0f227c31f\", \"airbnb_full.csv\", 3025594)"
            ]
          },
          "metadata": {}
        },
        {
          "output_type": "stream",
          "name": "stdout",
          "text": [
            "<class 'pandas.core.frame.DataFrame'>\n",
            "RangeIndex: 25209 entries, 0 to 25208\n",
            "Data columns (total 7 columns):\n",
            " #   Column       Non-Null Count  Dtype \n",
            "---  ------       --------------  ----- \n",
            " 0   listing_id   25209 non-null  int64 \n",
            " 1   price        25209 non-null  object\n",
            " 2   nbhood_full  25209 non-null  object\n",
            " 3   description  25199 non-null  object\n",
            " 4   room_type    25209 non-null  object\n",
            " 5   host_name    25201 non-null  object\n",
            " 6   last_review  25209 non-null  object\n",
            "dtypes: int64(1), object(6)\n",
            "memory usage: 1.3+ MB\n",
            "None\n"
          ]
        }
      ]
    },
    {
      "cell_type": "code",
      "execution_count": null,
      "metadata": {
        "application/vnd.databricks.v1+cell": {
          "cellMetadata": {},
          "inputWidgets": {},
          "nuid": "bc87f8df-a1fb-47d1-a2a4-54b38ad97511",
          "showTitle": false,
          "tableResultSettingsMap": {},
          "title": ""
        },
        "colab": {
          "base_uri": "https://localhost:8080/"
        },
        "id": "8no9OEjHDX_d",
        "outputId": "e7ea53f0-f5c6-4bb9-e7dd-54faaadb3eaf"
      },
      "outputs": [
        {
          "output_type": "stream",
          "name": "stdout",
          "text": [
            "+----------+-----------+--------------------+--------------------+---------------+----------------+---------------+\n",
            "|listing_id|      price|         nbhood_full|         description|      room_type|       host_name|    last_review|\n",
            "+----------+-----------+--------------------+--------------------+---------------+----------------+---------------+\n",
            "|      2595|225 dollars|  Manhattan, Midtown|Skylit Midtown Ca...|Entire home/apt|        Jennifer|    May 21 2019|\n",
            "|      3831| 89 dollars|Brooklyn, Clinton...|Cozy Entire Floor...|Entire home/apt|     LisaRoxanne|   July 05 2019|\n",
            "|      5099|200 dollars|Manhattan, Murray...|Large Cozy 1 BR A...|Entire home/apt|           Chris|   June 22 2019|\n",
            "|      5178| 79 dollars|Manhattan, Hell's...|Large Furnished R...|   private room|        Shunichi|   June 24 2019|\n",
            "|      5238|150 dollars|Manhattan, Chinatown|Cute & Cozy Lower...|Entire home/apt|             Ben|   June 09 2019|\n",
            "|      5295|135 dollars|Manhattan, Upper ...|Beautiful 1br on ...|Entire home/apt|            Lena|   June 22 2019|\n",
            "|      5441| 85 dollars|Manhattan, Hell's...|Central Manhattan...|   Private room|            Kate|   June 23 2019|\n",
            "|      5803| 89 dollars|Brooklyn, South S...|Lovely Room 1, Ga...|   Private room|          Laurie|   June 24 2019|\n",
            "|      6021| 85 dollars|Manhattan, Upper ...|Wonderful Guest B...|   Private room|         Claudio|   July 05 2019|\n",
            "|      6848|140 dollars|Brooklyn, William...|Only 2 stops to M...|entire home/apt|   Allen & Irina|   June 29 2019|\n",
            "|      7097|215 dollars|Brooklyn, Fort Gr...|Perfect for Your ...|Entire home/apt|            Jane|   June 28 2019|\n",
            "|      7322|140 dollars|  Manhattan, Chelsea|     Chelsea Perfect|   Private room|            Doti|   July 01 2019|\n",
            "|      7726| 99 dollars|Brooklyn, Crown H...|Hip Historic Brow...|Entire home/apt|Adam And Charity|   June 22 2019|\n",
            "|      8024|130 dollars|Brooklyn, Park Slope|CBG CtyBGd HelpsH...|   PRIVATE ROOM|           Lisel|   July 01 2019|\n",
            "|      8025| 80 dollars|Brooklyn, Park Slope|CBG Helps Haiti R...|   PRIVATE ROOM|           Lisel|January 01 2019|\n",
            "|      8110|110 dollars|Brooklyn, Park Slope|CBG Helps Haiti R...|   Private room|           Lisel|   July 02 2019|\n",
            "|      8490|120 dollars|Brooklyn, Bedford...|MAISON DES SIRENE...|Entire home/apt|        Nathalie|   June 19 2019|\n",
            "|      8505| 60 dollars|Brooklyn, Windsor...|Sunny Bedroom Acr...|   Private room|         Gregory|   June 23 2019|\n",
            "|      9518| 44 dollars|   Manhattan, Inwood|SPACIOUS, LOVELY ...|   PRIVATE ROOM|            Shon|   June 15 2019|\n",
            "|      9657|180 dollars|Manhattan, East V...|Modern 1 BR / NYC...|entire home/apt|            Dana|  April 19 2019|\n",
            "+----------+-----------+--------------------+--------------------+---------------+----------------+---------------+\n",
            "only showing top 20 rows\n",
            "\n"
          ]
        }
      ],
      "source": [
        "from pyspark.sql import SparkSession\n",
        "\n",
        "# Crear una sesión Spark\n",
        "spark = SparkSession.builder.appName(\"Airbnb Analysis\").getOrCreate()\n",
        "\n",
        "# Cargar el CSV final\n",
        "df_final = spark.read.csv(\"airbnb_full.csv\", header=True, inferSchema=True)\n",
        "\n",
        "# Mostrar las primeras filas del DataFrame\n",
        "df_final.show()"
      ]
    },
    {
      "cell_type": "markdown",
      "source": [
        "Convertimos la fecha de `last_review` a tipo `Date`"
      ],
      "metadata": {
        "id": "Ei9b1N_dUDxR"
      }
    },
    {
      "cell_type": "code",
      "source": [
        "from pyspark.sql.functions import to_date\n",
        "\n",
        "# Convertir 'last_review' al formato estándar yyyy-MM-dd\n",
        "df_cleaned = df_final.withColumn(\"last_review\", to_date(\"last_review\", \"MMMM dd yyyy\"))\n",
        "\n",
        "df_cleaned.select(\"last_review\").show(3)"
      ],
      "metadata": {
        "colab": {
          "base_uri": "https://localhost:8080/"
        },
        "id": "_OjuAO4nS_4K",
        "outputId": "c216079e-19a9-44cf-db14-ad9865cb62e0"
      },
      "execution_count": null,
      "outputs": [
        {
          "output_type": "stream",
          "name": "stdout",
          "text": [
            "+-----------+\n",
            "|last_review|\n",
            "+-----------+\n",
            "| 2019-05-21|\n",
            "| 2019-07-05|\n",
            "| 2019-06-22|\n",
            "+-----------+\n",
            "only showing top 3 rows\n",
            "\n"
          ]
        }
      ]
    },
    {
      "cell_type": "markdown",
      "source": [
        "**¿Cuáles son las fechas de las primeras y las últimas reseñas?**\n",
        "\n",
        "Almacene estos valores como dos variables independientes con los nombres que prefiera."
      ],
      "metadata": {
        "id": "UKZ2q09OUnI4"
      }
    },
    {
      "source": [
        "from pyspark.sql.functions import min, max\n",
        "\n",
        "# Calculate first and last review dates\n",
        "review_dates = df_cleaned.select(min(\"last_review\"), max(\"last_review\")).first()\n",
        "first_review_date = review_dates[0]\n",
        "last_review_date = review_dates[1]\n",
        "\n",
        "print(\"First review date:\", first_review_date)\n",
        "print(\"Last review date:\", last_review_date)"
      ],
      "cell_type": "code",
      "metadata": {
        "colab": {
          "base_uri": "https://localhost:8080/"
        },
        "id": "uZS95IPnXfg3",
        "outputId": "fd69f632-7b74-4a19-8543-f8c80e5a0909"
      },
      "execution_count": null,
      "outputs": [
        {
          "output_type": "stream",
          "name": "stdout",
          "text": [
            "First review date: 2019-01-01\n",
            "Last review date: 2019-07-09\n"
          ]
        }
      ]
    },
    {
      "source": [
        "from pyspark.sql.functions import lower, trim\n",
        "\n",
        "# Normalize records, convert to lowercase (PRIVATE ROOM / Private Room / private room)\n",
        "df_cleaned = df_cleaned.withColumn(\"room_type\", lower(trim(df_cleaned.room_type)))\n",
        "\n",
        "# Filter the number of private rooms\n",
        "df_private_rooms = df_cleaned.filter(df_cleaned['room_type'] == 'private room')\n",
        "\n",
        "# Count the number of private rooms\n",
        "nb_private_rooms = df_private_rooms.count()\n",
        "\n",
        "# Show data\n",
        "df_private_rooms.show()\n",
        "\n",
        "# Print number of private rooms\n",
        "print(\"Numero de habitaciones privadas: \", nb_private_rooms)"
      ],
      "cell_type": "code",
      "metadata": {
        "colab": {
          "base_uri": "https://localhost:8080/"
        },
        "id": "wr2dHu4sYFcu",
        "outputId": "079c20a9-9b45-42b2-8c87-ac88af00e8d7"
      },
      "execution_count": null,
      "outputs": [
        {
          "output_type": "stream",
          "name": "stdout",
          "text": [
            "Numero de habitaciones privadas antes de lowercase:  25350\n",
            "+----------+-----------+--------------------+--------------------+------------+---------------+-----------+\n",
            "|listing_id|      price|         nbhood_full|         description|   room_type|      host_name|last_review|\n",
            "+----------+-----------+--------------------+--------------------+------------+---------------+-----------+\n",
            "|      5178| 79 dollars|Manhattan, Hell's...|Large Furnished R...|private room|       Shunichi| 2019-06-24|\n",
            "|      5441| 85 dollars|Manhattan, Hell's...|Central Manhattan...|private room|           Kate| 2019-06-23|\n",
            "|      5803| 89 dollars|Brooklyn, South S...|Lovely Room 1, Ga...|private room|         Laurie| 2019-06-24|\n",
            "|      6021| 85 dollars|Manhattan, Upper ...|Wonderful Guest B...|private room|        Claudio| 2019-07-05|\n",
            "|      7322|140 dollars|  Manhattan, Chelsea|     Chelsea Perfect|private room|           Doti| 2019-07-01|\n",
            "|      8024|130 dollars|Brooklyn, Park Slope|CBG CtyBGd HelpsH...|private room|          Lisel| 2019-07-01|\n",
            "|      8025| 80 dollars|Brooklyn, Park Slope|CBG Helps Haiti R...|private room|          Lisel| 2019-01-01|\n",
            "|      8110|110 dollars|Brooklyn, Park Slope|CBG Helps Haiti R...|private room|          Lisel| 2019-07-02|\n",
            "|      8505| 60 dollars|Brooklyn, Windsor...|Sunny Bedroom Acr...|private room|        Gregory| 2019-06-23|\n",
            "|      9518| 44 dollars|   Manhattan, Inwood|SPACIOUS, LOVELY ...|private room|           Shon| 2019-06-15|\n",
            "|      9668| 50 dollars|   Manhattan, Harlem|front room/double...|private room|Ssameer Or Trip| 2019-06-01|\n",
            "|      9704| 52 dollars|   Manhattan, Harlem|Spacious 1 bedroo...|private room|           Teri| 2019-06-14|\n",
            "|      9782| 55 dollars|Brooklyn, Greenpoint|Loft in Williamsb...|private room|         Andrea| 2019-06-15|\n",
            "|      9783| 50 dollars|   Manhattan, Harlem| back room/bunk beds|private room|Ssameer Or Trip| 2019-07-01|\n",
            "|     10452| 70 dollars|Brooklyn, Bedford...|Large B&B Style r...|private room|         Angela| 2019-05-12|\n",
            "|     10962| 89 dollars|Brooklyn, South S...|Lovely room 2 & g...|private room|         Laurie| 2019-06-21|\n",
            "|     12192| 68 dollars|Manhattan, East V...| ENJOY Downtown NYC!|private room|         Edward| 2019-06-21|\n",
            "|     12318|135 dollars|Manhattan, Upper ...|   West Side Retreat|private room|            Cyn| 2019-06-16|\n",
            "|     12937|130 dollars|Queens, Long Isla...|1 Stop fr. Manhat...|private room|        Orestes| 2019-07-01|\n",
            "|     13394| 80 dollars|Brooklyn, Fort Gr...|Fort Greene brown...|private room|      Alexander| 2019-06-17|\n",
            "+----------+-----------+--------------------+--------------------+------------+---------------+-----------+\n",
            "only showing top 20 rows\n",
            "\n",
            "Numero de habitaciones privadas:  11279\n"
          ]
        }
      ]
    },
    {
      "cell_type": "markdown",
      "source": [
        "**¿Cuál es el precio promedio de los anuncios?**\n",
        "\n",
        "Redondee a los dos decimales más cercanos y guárdelo en una variable."
      ],
      "metadata": {
        "id": "Ib0BWZgDardd"
      }
    },
    {
      "cell_type": "code",
      "source": [
        "from pyspark.sql.functions import round, regexp_replace, avg\n",
        "\n",
        "# Delete 'dollars' from price column and convert to float\n",
        "df_cleaned = df_cleaned.withColumn(\"price_numeric\",\n",
        "                                   regexp_replace(df_cleaned[\"price\"],\n",
        "                                    \" dollars\", \"\").cast(\"float\")\n",
        "                                  )\n",
        "\n",
        "df_cleaned.select(\"price_numeric\").show(3)\n",
        "\n",
        "# Calculate the average price\n",
        "avg_price = df_cleaned.select(round(avg(\"price_numeric\"), 2)).first()[0]\n",
        "\n",
        "# Print the average price\n",
        "print(\"Precio medio: \", avg_price)"
      ],
      "metadata": {
        "colab": {
          "base_uri": "https://localhost:8080/"
        },
        "id": "4MvYiSOvarJN",
        "outputId": "938f249d-889e-4a82-9641-1761ec3ce379"
      },
      "execution_count": null,
      "outputs": [
        {
          "output_type": "stream",
          "name": "stdout",
          "text": [
            "+-------------+\n",
            "|price_numeric|\n",
            "+-------------+\n",
            "|        225.0|\n",
            "|         89.0|\n",
            "|        200.0|\n",
            "+-------------+\n",
            "only showing top 3 rows\n",
            "\n",
            "Precio medio:  141.78\n"
          ]
        }
      ]
    },
    {
      "cell_type": "markdown",
      "source": [
        "**Combine las nuevas variables en un DataFrame llamado review_dates con cuatro columnas en el siguiente orden:**\n",
        "\n",
        " `first_reviewed`, `last_reviewed`, `nb_private_rooms` y `avg_price`.\n",
        "\n",
        " El DataFrame solo debe contener una fila de valores."
      ],
      "metadata": {
        "id": "pdg6DwJJa3KF"
      }
    },
    {
      "cell_type": "code",
      "source": [
        "# Create the review_dates DataFrame\n",
        "review_dates = pd.DataFrame({\n",
        "    'first_reviewed': [first_review_date],\n",
        "    'last_reviewed': [last_review_date],\n",
        "    'nb_private_rooms': [nb_private_rooms],\n",
        "    'avg_price': [avg_price]\n",
        "})\n",
        "\n",
        "review_dates"
      ],
      "metadata": {
        "colab": {
          "base_uri": "https://localhost:8080/",
          "height": 89
        },
        "id": "6N_6sq6qD6pT",
        "outputId": "0a5a0fee-9099-4e44-bde2-8d75a300da36"
      },
      "execution_count": null,
      "outputs": [
        {
          "output_type": "execute_result",
          "data": {
            "text/plain": [
              "  first_reviewed last_reviewed  nb_private_rooms  avg_price\n",
              "0     2019-01-01    2019-07-09             11279     141.78"
            ],
            "text/html": [
              "\n",
              "  <div id=\"df-193fbcb2-68f2-4b5b-8a08-51b22ad6804c\" class=\"colab-df-container\">\n",
              "    <div>\n",
              "<style scoped>\n",
              "    .dataframe tbody tr th:only-of-type {\n",
              "        vertical-align: middle;\n",
              "    }\n",
              "\n",
              "    .dataframe tbody tr th {\n",
              "        vertical-align: top;\n",
              "    }\n",
              "\n",
              "    .dataframe thead th {\n",
              "        text-align: right;\n",
              "    }\n",
              "</style>\n",
              "<table border=\"1\" class=\"dataframe\">\n",
              "  <thead>\n",
              "    <tr style=\"text-align: right;\">\n",
              "      <th></th>\n",
              "      <th>first_reviewed</th>\n",
              "      <th>last_reviewed</th>\n",
              "      <th>nb_private_rooms</th>\n",
              "      <th>avg_price</th>\n",
              "    </tr>\n",
              "  </thead>\n",
              "  <tbody>\n",
              "    <tr>\n",
              "      <th>0</th>\n",
              "      <td>2019-01-01</td>\n",
              "      <td>2019-07-09</td>\n",
              "      <td>11279</td>\n",
              "      <td>141.78</td>\n",
              "    </tr>\n",
              "  </tbody>\n",
              "</table>\n",
              "</div>\n",
              "    <div class=\"colab-df-buttons\">\n",
              "\n",
              "  <div class=\"colab-df-container\">\n",
              "    <button class=\"colab-df-convert\" onclick=\"convertToInteractive('df-193fbcb2-68f2-4b5b-8a08-51b22ad6804c')\"\n",
              "            title=\"Convert this dataframe to an interactive table.\"\n",
              "            style=\"display:none;\">\n",
              "\n",
              "  <svg xmlns=\"http://www.w3.org/2000/svg\" height=\"24px\" viewBox=\"0 -960 960 960\">\n",
              "    <path d=\"M120-120v-720h720v720H120Zm60-500h600v-160H180v160Zm220 220h160v-160H400v160Zm0 220h160v-160H400v160ZM180-400h160v-160H180v160Zm440 0h160v-160H620v160ZM180-180h160v-160H180v160Zm440 0h160v-160H620v160Z\"/>\n",
              "  </svg>\n",
              "    </button>\n",
              "\n",
              "  <style>\n",
              "    .colab-df-container {\n",
              "      display:flex;\n",
              "      gap: 12px;\n",
              "    }\n",
              "\n",
              "    .colab-df-convert {\n",
              "      background-color: #E8F0FE;\n",
              "      border: none;\n",
              "      border-radius: 50%;\n",
              "      cursor: pointer;\n",
              "      display: none;\n",
              "      fill: #1967D2;\n",
              "      height: 32px;\n",
              "      padding: 0 0 0 0;\n",
              "      width: 32px;\n",
              "    }\n",
              "\n",
              "    .colab-df-convert:hover {\n",
              "      background-color: #E2EBFA;\n",
              "      box-shadow: 0px 1px 2px rgba(60, 64, 67, 0.3), 0px 1px 3px 1px rgba(60, 64, 67, 0.15);\n",
              "      fill: #174EA6;\n",
              "    }\n",
              "\n",
              "    .colab-df-buttons div {\n",
              "      margin-bottom: 4px;\n",
              "    }\n",
              "\n",
              "    [theme=dark] .colab-df-convert {\n",
              "      background-color: #3B4455;\n",
              "      fill: #D2E3FC;\n",
              "    }\n",
              "\n",
              "    [theme=dark] .colab-df-convert:hover {\n",
              "      background-color: #434B5C;\n",
              "      box-shadow: 0px 1px 3px 1px rgba(0, 0, 0, 0.15);\n",
              "      filter: drop-shadow(0px 1px 2px rgba(0, 0, 0, 0.3));\n",
              "      fill: #FFFFFF;\n",
              "    }\n",
              "  </style>\n",
              "\n",
              "    <script>\n",
              "      const buttonEl =\n",
              "        document.querySelector('#df-193fbcb2-68f2-4b5b-8a08-51b22ad6804c button.colab-df-convert');\n",
              "      buttonEl.style.display =\n",
              "        google.colab.kernel.accessAllowed ? 'block' : 'none';\n",
              "\n",
              "      async function convertToInteractive(key) {\n",
              "        const element = document.querySelector('#df-193fbcb2-68f2-4b5b-8a08-51b22ad6804c');\n",
              "        const dataTable =\n",
              "          await google.colab.kernel.invokeFunction('convertToInteractive',\n",
              "                                                    [key], {});\n",
              "        if (!dataTable) return;\n",
              "\n",
              "        const docLinkHtml = 'Like what you see? Visit the ' +\n",
              "          '<a target=\"_blank\" href=https://colab.research.google.com/notebooks/data_table.ipynb>data table notebook</a>'\n",
              "          + ' to learn more about interactive tables.';\n",
              "        element.innerHTML = '';\n",
              "        dataTable['output_type'] = 'display_data';\n",
              "        await google.colab.output.renderOutput(dataTable, element);\n",
              "        const docLink = document.createElement('div');\n",
              "        docLink.innerHTML = docLinkHtml;\n",
              "        element.appendChild(docLink);\n",
              "      }\n",
              "    </script>\n",
              "  </div>\n",
              "\n",
              "\n",
              "  <div id=\"id_f9633ed5-bf7d-4033-97f1-9878c52e40d3\">\n",
              "    <style>\n",
              "      .colab-df-generate {\n",
              "        background-color: #E8F0FE;\n",
              "        border: none;\n",
              "        border-radius: 50%;\n",
              "        cursor: pointer;\n",
              "        display: none;\n",
              "        fill: #1967D2;\n",
              "        height: 32px;\n",
              "        padding: 0 0 0 0;\n",
              "        width: 32px;\n",
              "      }\n",
              "\n",
              "      .colab-df-generate:hover {\n",
              "        background-color: #E2EBFA;\n",
              "        box-shadow: 0px 1px 2px rgba(60, 64, 67, 0.3), 0px 1px 3px 1px rgba(60, 64, 67, 0.15);\n",
              "        fill: #174EA6;\n",
              "      }\n",
              "\n",
              "      [theme=dark] .colab-df-generate {\n",
              "        background-color: #3B4455;\n",
              "        fill: #D2E3FC;\n",
              "      }\n",
              "\n",
              "      [theme=dark] .colab-df-generate:hover {\n",
              "        background-color: #434B5C;\n",
              "        box-shadow: 0px 1px 3px 1px rgba(0, 0, 0, 0.15);\n",
              "        filter: drop-shadow(0px 1px 2px rgba(0, 0, 0, 0.3));\n",
              "        fill: #FFFFFF;\n",
              "      }\n",
              "    </style>\n",
              "    <button class=\"colab-df-generate\" onclick=\"generateWithVariable('review_dates')\"\n",
              "            title=\"Generate code using this dataframe.\"\n",
              "            style=\"display:none;\">\n",
              "\n",
              "  <svg xmlns=\"http://www.w3.org/2000/svg\" height=\"24px\"viewBox=\"0 0 24 24\"\n",
              "       width=\"24px\">\n",
              "    <path d=\"M7,19H8.4L18.45,9,17,7.55,7,17.6ZM5,21V16.75L18.45,3.32a2,2,0,0,1,2.83,0l1.4,1.43a1.91,1.91,0,0,1,.58,1.4,1.91,1.91,0,0,1-.58,1.4L9.25,21ZM18.45,9,17,7.55Zm-12,3A5.31,5.31,0,0,0,4.9,8.1,5.31,5.31,0,0,0,1,6.5,5.31,5.31,0,0,0,4.9,4.9,5.31,5.31,0,0,0,6.5,1,5.31,5.31,0,0,0,8.1,4.9,5.31,5.31,0,0,0,12,6.5,5.46,5.46,0,0,0,6.5,12Z\"/>\n",
              "  </svg>\n",
              "    </button>\n",
              "    <script>\n",
              "      (() => {\n",
              "      const buttonEl =\n",
              "        document.querySelector('#id_f9633ed5-bf7d-4033-97f1-9878c52e40d3 button.colab-df-generate');\n",
              "      buttonEl.style.display =\n",
              "        google.colab.kernel.accessAllowed ? 'block' : 'none';\n",
              "\n",
              "      buttonEl.onclick = () => {\n",
              "        google.colab.notebook.generateWithVariable('review_dates');\n",
              "      }\n",
              "      })();\n",
              "    </script>\n",
              "  </div>\n",
              "\n",
              "    </div>\n",
              "  </div>\n"
            ],
            "application/vnd.google.colaboratory.intrinsic+json": {
              "type": "dataframe",
              "variable_name": "review_dates",
              "summary": "{\n  \"name\": \"review_dates\",\n  \"rows\": 1,\n  \"fields\": [\n    {\n      \"column\": \"first_reviewed\",\n      \"properties\": {\n        \"dtype\": \"date\",\n        \"min\": \"2019-01-01\",\n        \"max\": \"2019-01-01\",\n        \"num_unique_values\": 1,\n        \"samples\": [\n          \"2019-01-01\"\n        ],\n        \"semantic_type\": \"\",\n        \"description\": \"\"\n      }\n    },\n    {\n      \"column\": \"last_reviewed\",\n      \"properties\": {\n        \"dtype\": \"date\",\n        \"min\": \"2019-07-09\",\n        \"max\": \"2019-07-09\",\n        \"num_unique_values\": 1,\n        \"samples\": [\n          \"2019-07-09\"\n        ],\n        \"semantic_type\": \"\",\n        \"description\": \"\"\n      }\n    },\n    {\n      \"column\": \"nb_private_rooms\",\n      \"properties\": {\n        \"dtype\": \"number\",\n        \"std\": null,\n        \"min\": 11279,\n        \"max\": 11279,\n        \"num_unique_values\": 1,\n        \"samples\": [\n          11279\n        ],\n        \"semantic_type\": \"\",\n        \"description\": \"\"\n      }\n    },\n    {\n      \"column\": \"avg_price\",\n      \"properties\": {\n        \"dtype\": \"number\",\n        \"std\": null,\n        \"min\": 141.78,\n        \"max\": 141.78,\n        \"num_unique_values\": 1,\n        \"samples\": [\n          141.78\n        ],\n        \"semantic_type\": \"\",\n        \"description\": \"\"\n      }\n    }\n  ]\n}"
            }
          },
          "metadata": {},
          "execution_count": 64
        }
      ]
    }
  ],
  "metadata": {
    "application/vnd.databricks.v1+notebook": {
      "dashboards": [],
      "environmentMetadata": null,
      "language": "python",
      "notebookMetadata": {
        "pythonIndentUnit": 4
      },
      "notebookName": "Caso_3",
      "widgets": {}
    },
    "colab": {
      "provenance": []
    },
    "language_info": {
      "name": "python"
    },
    "kernelspec": {
      "name": "python3",
      "display_name": "Python 3"
    }
  },
  "nbformat": 4,
  "nbformat_minor": 0
}